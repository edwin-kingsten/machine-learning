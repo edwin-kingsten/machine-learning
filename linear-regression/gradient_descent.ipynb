{
  "nbformat": 4,
  "nbformat_minor": 0,
  "metadata": {
    "colab": {
      "name": "gradient descent.ipynb",
      "provenance": []
    },
    "kernelspec": {
      "display_name": "Python 3",
      "name": "python3"
    }
  },
  "cells": [
    {
      "cell_type": "code",
      "metadata": {
        "id": "qXtCkhlaiMlG"
      },
      "source": [
        "import numpy as np"
      ],
      "execution_count": 242,
      "outputs": []
    },
    {
      "cell_type": "code",
      "metadata": {
        "id": "oTYvW6X1i9pa"
      },
      "source": [
        "import matplotlib.pyplot as plt"
      ],
      "execution_count": 243,
      "outputs": []
    },
    {
      "cell_type": "markdown",
      "metadata": {
        "id": "wg765daPs0xy"
      },
      "source": [
        "## creating 2 dimensional datasets"
      ]
    },
    {
      "cell_type": "code",
      "metadata": {
        "id": "9pJ0giGuifwa"
      },
      "source": [
        "R = 100 # number of rows\n",
        "C = 5  # number of columns"
      ],
      "execution_count": 244,
      "outputs": []
    },
    {
      "cell_type": "code",
      "metadata": {
        "id": "bXzrdp_uiUNn"
      },
      "source": [
        "x =  np.random.randint(0 , 10 , (R , C)) # data points"
      ],
      "execution_count": 245,
      "outputs": []
    },
    {
      "cell_type": "code",
      "metadata": {
        "id": "4R6xnPxeiVHb"
      },
      "source": [
        "m = np.random.randint(0 , 50 , (C)) # slope\n",
        "c = 100 # intercept"
      ],
      "execution_count": 246,
      "outputs": []
    },
    {
      "cell_type": "code",
      "metadata": {
        "id": "pY7WPs8NiVDy"
      },
      "source": [
        "y = x.dot(m) + c"
      ],
      "execution_count": 247,
      "outputs": []
    },
    {
      "cell_type": "markdown",
      "metadata": {
        "id": "6vuMuDwOk7kN"
      },
      "source": [
        "## Gradient descent"
      ]
    },
    {
      "cell_type": "code",
      "metadata": {
        "id": "AyRevw7Pk7hN"
      },
      "source": [
        "w =  np.random.randn(C) # initialize weights\n",
        "b = np.random.randn(1) # initialize bias\n",
        "learning_rate = 0.0001  "
      ],
      "execution_count": 277,
      "outputs": []
    },
    {
      "cell_type": "code",
      "metadata": {
        "id": "ScJKfl0Tlq4D"
      },
      "source": [
        "Epoch = 200"
      ],
      "execution_count": 278,
      "outputs": []
    },
    {
      "cell_type": "code",
      "metadata": {
        "id": "Y4xQMPfylzWJ"
      },
      "source": [
        "costs = []"
      ],
      "execution_count": 279,
      "outputs": []
    },
    {
      "cell_type": "code",
      "metadata": {
        "id": "0uKp3hrHochM"
      },
      "source": [
        "weights = []\n",
        "bias = []"
      ],
      "execution_count": 280,
      "outputs": []
    },
    {
      "cell_type": "code",
      "metadata": {
        "colab": {
          "base_uri": "https://localhost:8080/"
        },
        "id": "fIpiK6Q9pZsF",
        "outputId": "afac2522-148b-4715-8b27-d8fe0ffdc00f"
      },
      "source": [
        "w"
      ],
      "execution_count": 281,
      "outputs": [
        {
          "output_type": "execute_result",
          "data": {
            "text/plain": [
              "array([-0.37208962,  1.38572863, -2.83370645, -0.19357751, -0.29912248])"
            ]
          },
          "metadata": {
            "tags": []
          },
          "execution_count": 281
        }
      ]
    },
    {
      "cell_type": "code",
      "metadata": {
        "id": "u6sf6g-7lzem"
      },
      "source": [
        "for epoch in range(Epoch):\n",
        "  yhat = x.dot(w) + b \n",
        "  cost =y - yhat\n",
        "  w = w + learning_rate*x.T.dot(cost) # w = w - dy/dw\n",
        "  b = b + learning_rate*(cost).sum()  # b = b - dy/db\n",
        "  weights.append(w)\n",
        "  bias.append(b)\n",
        "  \n",
        "  # calculate mse\n",
        "  mse = np.mean(np.square(cost))\n",
        "  costs.append(mse)"
      ],
      "execution_count": 283,
      "outputs": []
    },
    {
      "cell_type": "code",
      "metadata": {
        "colab": {
          "base_uri": "https://localhost:8080/"
        },
        "id": "RlESM7IqGqXz",
        "outputId": "e3f45d39-59e9-4a1b-a555-b24d7e191365"
      },
      "source": [
        "np.shape(costs)"
      ],
      "execution_count": 284,
      "outputs": [
        {
          "output_type": "execute_result",
          "data": {
            "text/plain": [
              "(200,)"
            ]
          },
          "metadata": {
            "tags": []
          },
          "execution_count": 284
        }
      ]
    },
    {
      "cell_type": "code",
      "metadata": {
        "colab": {
          "base_uri": "https://localhost:8080/"
        },
        "id": "0GMbdPeInCYu",
        "outputId": "b8e4c42b-803f-4c38-a684-9d6a91a38784"
      },
      "source": [
        "w.shape"
      ],
      "execution_count": 285,
      "outputs": [
        {
          "output_type": "execute_result",
          "data": {
            "text/plain": [
              "(5,)"
            ]
          },
          "metadata": {
            "tags": []
          },
          "execution_count": 285
        }
      ]
    },
    {
      "cell_type": "code",
      "metadata": {
        "colab": {
          "base_uri": "https://localhost:8080/"
        },
        "id": "n2G6dAWKps2m",
        "outputId": "0477ecb7-d5e1-49db-e6ed-a5ce227b65c5"
      },
      "source": [
        "w # optimal weight obtained using grrdient descent"
      ],
      "execution_count": 286,
      "outputs": [
        {
          "output_type": "execute_result",
          "data": {
            "text/plain": [
              "array([49.14373459, 20.56267449,  6.61052237,  4.40058945, 32.33593993])"
            ]
          },
          "metadata": {
            "tags": []
          },
          "execution_count": 286
        }
      ]
    },
    {
      "cell_type": "code",
      "metadata": {
        "colab": {
          "base_uri": "https://localhost:8080/"
        },
        "id": "W6nNJI32ndlk",
        "outputId": "1d9b75a3-c0ac-40d3-e508-08170ca211e3"
      },
      "source": [
        "m # original weights"
      ],
      "execution_count": 287,
      "outputs": [
        {
          "output_type": "execute_result",
          "data": {
            "text/plain": [
              "array([46, 19,  3,  0, 29])"
            ]
          },
          "metadata": {
            "tags": []
          },
          "execution_count": 287
        }
      ]
    },
    {
      "cell_type": "code",
      "metadata": {
        "colab": {
          "base_uri": "https://localhost:8080/"
        },
        "id": "6-vJfqqlIa0r",
        "outputId": "67e09eeb-5179-4a60-b1c1-63afb189c43c"
      },
      "source": [
        "b # optimal bias obtained using grrdient descent"
      ],
      "execution_count": 292,
      "outputs": [
        {
          "output_type": "execute_result",
          "data": {
            "text/plain": [
              "array([20.41893306])"
            ]
          },
          "metadata": {
            "tags": []
          },
          "execution_count": 292
        }
      ]
    },
    {
      "cell_type": "code",
      "metadata": {
        "colab": {
          "base_uri": "https://localhost:8080/"
        },
        "id": "nWH-98XEIc0G",
        "outputId": "a2a4422d-daf6-4854-b5bc-39c985118563"
      },
      "source": [
        "c # original bias"
      ],
      "execution_count": 293,
      "outputs": [
        {
          "output_type": "execute_result",
          "data": {
            "text/plain": [
              "100"
            ]
          },
          "metadata": {
            "tags": []
          },
          "execution_count": 293
        }
      ]
    },
    {
      "cell_type": "code",
      "metadata": {
        "colab": {
          "base_uri": "https://localhost:8080/",
          "height": 282
        },
        "id": "gNSueexkne04",
        "outputId": "d0688fa1-96a7-47a3-cbe6-9a0263723217"
      },
      "source": [
        "plt.plot(costs)"
      ],
      "execution_count": 289,
      "outputs": [
        {
          "output_type": "execute_result",
          "data": {
            "text/plain": [
              "[<matplotlib.lines.Line2D at 0x7f80bb82e6d8>]"
            ]
          },
          "metadata": {
            "tags": []
          },
          "execution_count": 289
        },
        {
          "output_type": "display_data",
          "data": {
            "image/png": "[encoded data removed]",
            "text/plain": [
              "<Figure size 432x288 with 1 Axes>"
            ]
          },
          "metadata": {
            "tags": [],
            "needs_background": "light"
          }
        }
      ]
    },
    {
      "cell_type": "code",
      "metadata": {
        "colab": {
          "base_uri": "https://localhost:8080/"
        },
        "id": "5dMUN8E3JdJc",
        "outputId": "1824522a-fff1-4c32-d231-b766833105c1"
      },
      "source": [
        "mse ## mean squared error of last iteration"
      ],
      "execution_count": 294,
      "outputs": [
        {
          "output_type": "execute_result",
          "data": {
            "text/plain": [
              "611.1710731248613"
            ]
          },
          "metadata": {
            "tags": []
          },
          "execution_count": 294
        }
      ]
    },
    {
      "cell_type": "code",
      "metadata": {
        "colab": {
          "base_uri": "https://localhost:8080/",
          "height": 282
        },
        "id": "AHHROUkznn8n",
        "outputId": "cc76e2c7-a82f-4a1e-9c53-296e747665e5"
      },
      "source": [
        "plt.plot(y ,  label = \"Y_True\")\n",
        "plt.plot(yhat ,  label = \"train_pred\")\n",
        "plt.legend()"
      ],
      "execution_count": 291,
      "outputs": [
        {
          "output_type": "execute_result",
          "data": {
            "text/plain": [
              "<matplotlib.legend.Legend at 0x7f80bb817eb8>"
            ]
          },
          "metadata": {
            "tags": []
          },
          "execution_count": 291
        },
        {
          "output_type": "display_data",
          "data": {
            "image/png": "[encoded data removed]",
            "text/plain": [
              "<Figure size 432x288 with 1 Axes>"
            ]
          },
          "metadata": {
            "tags": [],
            "needs_background": "light"
          }
        }
      ]
    },
    {
      "cell_type": "markdown",
      "metadata": {
        "id": "5zAIJVf3u71X"
      },
      "source": [
        "# conclusion:\r\n",
        "## according to the above graph gradient descent gave pretty good prediction\r\n",
        "## the mean squared error is  611.1710731248613\r\n",
        "## if we do more iteration mse can be improved"
      ]
    },
    {
      "cell_type": "code",
      "metadata": {
        "id": "yNIaeQxHvC38"
      },
      "source": [
        ""
      ],
      "execution_count": 208,
      "outputs": []
    },
    {
      "cell_type": "code",
      "metadata": {
        "id": "qRFRTN1SvDBV"
      },
      "source": [
        ""
      ],
      "execution_count": 208,
      "outputs": []
    },
    {
      "cell_type": "code",
      "metadata": {
        "id": "Uhobc0zovC9s"
      },
      "source": [
        ""
      ],
      "execution_count": 208,
      "outputs": []
    },
    {
      "cell_type": "code",
      "metadata": {
        "id": "iLre6WCXvC01"
      },
      "source": [
        ""
      ],
      "execution_count": 208,
      "outputs": []
    }
  ]
}