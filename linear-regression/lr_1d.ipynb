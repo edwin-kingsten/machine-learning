{
  "nbformat": 4,
  "nbformat_minor": 0,
  "metadata": {
    "colab": {
      "name": "lr_1d.ipynb",
      "provenance": [],
      "collapsed_sections": []
    },
    "kernelspec": {
      "name": "python3",
      "display_name": "Python 3"
    }
  },
  "cells": [
    {
      "cell_type": "code",
      "metadata": {
        "id": "cyDZycwgxiJt"
      },
      "source": [
        "import numpy as np\n",
        "import matplotlib.pyplot as plt"
      ],
      "execution_count": 1,
      "outputs": []
    },
    {
      "cell_type": "markdown",
      "metadata": {
        "id": "8ncS-y0YxsaB"
      },
      "source": [
        "# create dataset"
      ]
    },
    {
      "cell_type": "code",
      "metadata": {
        "id": "Kb9KTWsoxuJw"
      },
      "source": [
        "x = np.linspace(1 , 10  , 50)"
      ],
      "execution_count": 2,
      "outputs": []
    },
    {
      "cell_type": "code",
      "metadata": {
        "id": "JFD3vmbBxt_2"
      },
      "source": [
        "m = 5 #bias\n",
        "c = np.random.uniform(5 , -5 ,len(x)) ## genrates uniform random numbers which will be the noise for our sample"
      ],
      "execution_count": 30,
      "outputs": []
    },
    {
      "cell_type": "code",
      "metadata": {
        "colab": {
          "base_uri": "https://localhost:8080/"
        },
        "id": "fPxSUn9eXKPN",
        "outputId": "88104408-ca36-47ec-df4d-8914dd418a81"
      },
      "source": [
        "c"
      ],
      "execution_count": 31,
      "outputs": [
        {
          "output_type": "execute_result",
          "data": {
            "text/plain": [
              "array([-0.82092847, -2.18848042, -4.92423269,  4.34657325, -3.13376733,\n",
              "       -0.476662  , -2.42942306,  1.30782869,  2.75260621, -0.74760544,\n",
              "        3.92112975, -1.06944553, -2.10343698, -4.15743483,  3.84927937,\n",
              "       -2.28897509, -1.90397995,  2.34497444,  1.17603849, -4.39906885,\n",
              "        1.56342185,  1.39858357,  1.94277209, -1.95989993,  2.22460201,\n",
              "       -4.82814703, -0.39263801, -2.98889013, -3.60725284, -4.69010462,\n",
              "       -1.89870023,  1.99250085,  2.82849199, -3.11136081,  3.32756027,\n",
              "        3.90467584, -1.08549048, -0.79346632,  3.68819417, -1.55256945,\n",
              "       -3.79221469,  3.44189767, -2.6993582 , -3.95130007,  3.92400849,\n",
              "        3.0959823 , -4.56707181,  0.3281451 , -2.45527349,  3.9327553 ])"
            ]
          },
          "metadata": {
            "tags": []
          },
          "execution_count": 31
        }
      ]
    },
    {
      "cell_type": "code",
      "metadata": {
        "colab": {
          "base_uri": "https://localhost:8080/"
        },
        "id": "bqJh4KzVXVWW",
        "outputId": "1d0fdc3d-3d50-4d53-a126-f210036adab1"
      },
      "source": [
        "c.mean()"
      ],
      "execution_count": 32,
      "outputs": [
        {
          "output_type": "execute_result",
          "data": {
            "text/plain": [
              "-0.35450314072306094"
            ]
          },
          "metadata": {
            "tags": []
          },
          "execution_count": 32
        }
      ]
    },
    {
      "cell_type": "code",
      "metadata": {
        "id": "5xKrNYzWxt7u"
      },
      "source": [
        "y = m*x + c"
      ],
      "execution_count": 33,
      "outputs": []
    },
    {
      "cell_type": "code",
      "metadata": {
        "colab": {
          "base_uri": "https://localhost:8080/",
          "height": 282
        },
        "id": "B7Fy_khFxt6G",
        "outputId": "82ed3058-cc3b-4f13-ad66-8ca7bea46532"
      },
      "source": [
        "plt.plot(x , y)"
      ],
      "execution_count": 34,
      "outputs": [
        {
          "output_type": "execute_result",
          "data": {
            "text/plain": [
              "[<matplotlib.lines.Line2D at 0x7fac48eb3390>]"
            ]
          },
          "metadata": {
            "tags": []
          },
          "execution_count": 34
        },
        {
          "output_type": "display_data",
          "data": {
            "image/png": "[encoded data removed]",
            "text/plain": [
              "<Figure size 432x288 with 1 Axes>"
            ]
          },
          "metadata": {
            "tags": [],
            "needs_background": "light"
          }
        }
      ]
    },
    {
      "cell_type": "markdown",
      "metadata": {
        "id": "GZhyKTS-xtXe"
      },
      "source": [
        "# finding weights and bias"
      ]
    },
    {
      "cell_type": "code",
      "metadata": {
        "id": "YxoNKu-rxtT-"
      },
      "source": [
        "denom =  x.dot(x) - np.mean(x)*np.sum(x)"
      ],
      "execution_count": 35,
      "outputs": []
    },
    {
      "cell_type": "code",
      "metadata": {
        "id": "Xh6Sii9nxtO9",
        "colab": {
          "base_uri": "https://localhost:8080/"
        },
        "outputId": "521ef4fc-a014-450b-c11e-018910b3241d"
      },
      "source": [
        "denom"
      ],
      "execution_count": 36,
      "outputs": [
        {
          "output_type": "execute_result",
          "data": {
            "text/plain": [
              "351.2755102040817"
            ]
          },
          "metadata": {
            "tags": []
          },
          "execution_count": 36
        }
      ]
    },
    {
      "cell_type": "code",
      "metadata": {
        "id": "2Gs2wFuuxtJO"
      },
      "source": [
        "w = (y.dot(x) - np.mean(y)*np.sum(x))/denom # when we solve for optimal weight or slope we get this equation"
      ],
      "execution_count": 37,
      "outputs": []
    },
    {
      "cell_type": "code",
      "metadata": {
        "id": "hS_qSSqqxtGo",
        "colab": {
          "base_uri": "https://localhost:8080/"
        },
        "outputId": "a7bb3c98-48c6-4155-da99-a818afd41409"
      },
      "source": [
        "w"
      ],
      "execution_count": 38,
      "outputs": [
        {
          "output_type": "execute_result",
          "data": {
            "text/plain": [
              "5.083614139647302"
            ]
          },
          "metadata": {
            "tags": []
          },
          "execution_count": 38
        }
      ]
    },
    {
      "cell_type": "code",
      "metadata": {
        "id": "X1HnsG9CVq9n"
      },
      "source": [
        "bias  = (y.mean()*(x.dot(x)) - x.mean()*(y.dot(x))) / denom # when we solve for optimal bias we get this equation"
      ],
      "execution_count": 39,
      "outputs": []
    },
    {
      "cell_type": "code",
      "metadata": {
        "colab": {
          "base_uri": "https://localhost:8080/"
        },
        "id": "flaPA6SdWDCa",
        "outputId": "8322945b-f7cf-4832-a13b-272d0f7f902a"
      },
      "source": [
        "bias"
      ],
      "execution_count": 40,
      "outputs": [
        {
          "output_type": "execute_result",
          "data": {
            "text/plain": [
              "-0.8143809087832239"
            ]
          },
          "metadata": {
            "tags": []
          },
          "execution_count": 40
        }
      ]
    },
    {
      "cell_type": "code",
      "metadata": {
        "id": "pGEcsAtpWDIr"
      },
      "source": [
        "yhat = x.dot(w) + bias # y = mx + c is the equation for best fit line"
      ],
      "execution_count": 41,
      "outputs": []
    },
    {
      "cell_type": "code",
      "metadata": {
        "colab": {
          "base_uri": "https://localhost:8080/",
          "height": 282
        },
        "id": "i08i_eNEWC_h",
        "outputId": "9616cf7f-08e2-41fc-d140-36687935dd8a"
      },
      "source": [
        "plt.scatter(x , y , label = \"true\")\n",
        "plt.plot(x , yhat , label = \"prediction\" ,  c = \"red\")\n",
        "plt.legend()"
      ],
      "execution_count": 42,
      "outputs": [
        {
          "output_type": "execute_result",
          "data": {
            "text/plain": [
              "<matplotlib.legend.Legend at 0x7fac49480e10>"
            ]
          },
          "metadata": {
            "tags": []
          },
          "execution_count": 42
        },
        {
          "output_type": "display_data",
          "data": {
            "image/png": "[encoded data removed]",
            "text/plain": [
              "<Figure size 432x288 with 1 Axes>"
            ]
          },
          "metadata": {
            "tags": [],
            "needs_background": "light"
          }
        }
      ]
    },
    {
      "cell_type": "code",
      "metadata": {
        "id": "Zpca9pt2XowC"
      },
      "source": [
        ""
      ],
      "execution_count": null,
      "outputs": []
    },
    {
      "cell_type": "code",
      "metadata": {
        "id": "6s02xv7IXoCi"
      },
      "source": [
        ""
      ],
      "execution_count": null,
      "outputs": []
    }
  ]
}