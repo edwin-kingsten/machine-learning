{
  "nbformat": 4,
  "nbformat_minor": 0,
  "metadata": {
    "colab": {
      "name": "lr_1d.ipynb",
      "provenance": [],
      "collapsed_sections": []
    },
    "kernelspec": {
      "name": "python3",
      "display_name": "Python 3"
    }
  },
  "cells": [
    {
      "cell_type": "code",
      "metadata": {
        "id": "cyDZycwgxiJt"
      },
      "source": [
        "import numpy as np\n",
        "import matplotlib.pyplot as plt"
      ],
      "execution_count": null,
      "outputs": []
    },
    {
      "cell_type": "markdown",
      "metadata": {
        "id": "8ncS-y0YxsaB"
      },
      "source": [
        "# create 1 dimensional dataset ie 1 data column 1 target column"
      ]
    },
    {
      "cell_type": "code",
      "metadata": {
        "id": "Kb9KTWsoxuJw"
      },
      "source": [
        "x = np.linspace(1 , 10  , 50)"
      ],
      "execution_count": null,
      "outputs": []
    },
    {
      "cell_type": "code",
      "metadata": {
        "id": "JFD3vmbBxt_2"
      },
      "source": [
        "m = 10 #slope \n",
        "c = 4 #bias\n",
        "noise = np.random.uniform(15 , -5 ,len(x)) ## genrates uniform random numbers which will be the noise for our sample"
      ],
      "execution_count": 85,
      "outputs": []
    },
    {
      "cell_type": "code",
      "metadata": {
        "colab": {
          "base_uri": "https://localhost:8080/"
        },
        "id": "fPxSUn9eXKPN",
        "outputId": "db9afc8d-cd18-4d95-d0a0-d9348b70d3a1"
      },
      "source": [
        "noise"
      ],
      "execution_count": 86,
      "outputs": [
        {
          "output_type": "execute_result",
          "data": {
            "text/plain": [
              "array([ 4.9585373 , 10.94965446,  4.55583273,  3.52111641,  3.38216366,\n",
              "       11.2208661 , 10.05493323,  8.70342712,  0.17158516,  0.79899593,\n",
              "        0.20334053, -3.55268942, -3.16349397, -0.62417148,  0.30095221,\n",
              "        3.55245192, 11.80613201,  6.25748373, -4.26411504, -3.37463291,\n",
              "       -4.68064367,  9.81191009,  3.09763607,  3.50613999, -1.62754176,\n",
              "       11.31248444, 10.4360946 ,  4.43940714, -4.13944057, -2.74260859,\n",
              "       10.62545857,  1.87003168, 13.55519613,  8.09443634,  7.73998819,\n",
              "       12.87413888, 11.98816424,  3.73770759,  1.81454319, 10.97963609,\n",
              "        9.47207115, -4.28465769, 13.21631549,  4.73811857,  6.92830868,\n",
              "       10.22611064,  3.72045441, -2.10272958,  1.35149947, -1.50682902])"
            ]
          },
          "metadata": {
            "tags": []
          },
          "execution_count": 86
        }
      ]
    },
    {
      "cell_type": "code",
      "metadata": {
        "colab": {
          "base_uri": "https://localhost:8080/"
        },
        "id": "bqJh4KzVXVWW",
        "outputId": "575489cf-e1d6-4717-cc8e-61bd74e0547d"
      },
      "source": [
        "noise.mean()"
      ],
      "execution_count": 87,
      "outputs": [
        {
          "output_type": "execute_result",
          "data": {
            "text/plain": [
              "4.398195408121321"
            ]
          },
          "metadata": {
            "tags": []
          },
          "execution_count": 87
        }
      ]
    },
    {
      "cell_type": "code",
      "metadata": {
        "id": "5xKrNYzWxt7u"
      },
      "source": [
        "y = m*x + c + noise"
      ],
      "execution_count": 88,
      "outputs": []
    },
    {
      "cell_type": "code",
      "metadata": {
        "colab": {
          "base_uri": "https://localhost:8080/",
          "height": 282
        },
        "id": "B7Fy_khFxt6G",
        "outputId": "88b2b46f-64d0-4504-b583-73321966b07a"
      },
      "source": [
        "plt.plot(x , y)"
      ],
      "execution_count": 89,
      "outputs": [
        {
          "output_type": "execute_result",
          "data": {
            "text/plain": [
              "[<matplotlib.lines.Line2D at 0x7fac48b5b8d0>]"
            ]
          },
          "metadata": {
            "tags": []
          },
          "execution_count": 89
        },
        {
          "output_type": "display_data",
          "data": {
            "image/png": "[encoded data removed]",
            "text/plain": [
              "<Figure size 432x288 with 1 Axes>"
            ]
          },
          "metadata": {
            "tags": [],
            "needs_background": "light"
          }
        }
      ]
    },
    {
      "cell_type": "markdown",
      "metadata": {
        "id": "GZhyKTS-xtXe"
      },
      "source": [
        "# finding weights and bias"
      ]
    },
    {
      "cell_type": "code",
      "metadata": {
        "id": "YxoNKu-rxtT-"
      },
      "source": [
        "denom =  x.dot(x) - np.mean(x)*np.sum(x)"
      ],
      "execution_count": 90,
      "outputs": []
    },
    {
      "cell_type": "code",
      "metadata": {
        "id": "Xh6Sii9nxtO9",
        "colab": {
          "base_uri": "https://localhost:8080/"
        },
        "outputId": "13763986-8cb7-4e69-c3cf-38f3d14e56c9"
      },
      "source": [
        "denom"
      ],
      "execution_count": 91,
      "outputs": [
        {
          "output_type": "execute_result",
          "data": {
            "text/plain": [
              "351.2755102040817"
            ]
          },
          "metadata": {
            "tags": []
          },
          "execution_count": 91
        }
      ]
    },
    {
      "cell_type": "code",
      "metadata": {
        "id": "2Gs2wFuuxtJO"
      },
      "source": [
        "w = (y.dot(x) - np.mean(y)*np.sum(x))/denom # when we solve for optimal weight or slope we get this equation"
      ],
      "execution_count": 92,
      "outputs": []
    },
    {
      "cell_type": "code",
      "metadata": {
        "id": "hS_qSSqqxtGo",
        "colab": {
          "base_uri": "https://localhost:8080/"
        },
        "outputId": "d55f4466-ad3c-4b39-ac37-e2a900a54e87"
      },
      "source": [
        "w"
      ],
      "execution_count": 93,
      "outputs": [
        {
          "output_type": "execute_result",
          "data": {
            "text/plain": [
              "10.16764064130508"
            ]
          },
          "metadata": {
            "tags": []
          },
          "execution_count": 93
        }
      ]
    },
    {
      "cell_type": "code",
      "metadata": {
        "id": "X1HnsG9CVq9n"
      },
      "source": [
        "bias  = (y.mean()*(x.dot(x)) - x.mean()*(y.dot(x))) / denom # when we solve for optimal bias we get this equation"
      ],
      "execution_count": 94,
      "outputs": []
    },
    {
      "cell_type": "code",
      "metadata": {
        "colab": {
          "base_uri": "https://localhost:8080/"
        },
        "id": "flaPA6SdWDCa",
        "outputId": "222dfe07-5f0c-46d4-a2a7-da50abba6f02"
      },
      "source": [
        "bias"
      ],
      "execution_count": 95,
      "outputs": [
        {
          "output_type": "execute_result",
          "data": {
            "text/plain": [
              "7.476171880943399"
            ]
          },
          "metadata": {
            "tags": []
          },
          "execution_count": 95
        }
      ]
    },
    {
      "cell_type": "code",
      "metadata": {
        "id": "pGEcsAtpWDIr"
      },
      "source": [
        "yhat = x.dot(w) + bias # y = mx + c is the equation for best fit line"
      ],
      "execution_count": 96,
      "outputs": []
    },
    {
      "cell_type": "code",
      "metadata": {
        "colab": {
          "base_uri": "https://localhost:8080/",
          "height": 282
        },
        "id": "i08i_eNEWC_h",
        "outputId": "f6c9e289-71a9-4b48-ca3a-6d668f40aa44"
      },
      "source": [
        "plt.scatter(x , y , label = \"true\")\n",
        "plt.plot(x , yhat , label = \"prediction\" ,  c = \"red\")\n",
        "plt.legend()"
      ],
      "execution_count": 97,
      "outputs": [
        {
          "output_type": "execute_result",
          "data": {
            "text/plain": [
              "<matplotlib.legend.Legend at 0x7fac48b3b908>"
            ]
          },
          "metadata": {
            "tags": []
          },
          "execution_count": 97
        },
        {
          "output_type": "display_data",
          "data": {
            "image/png": "[encoded data removed]",
            "text/plain": [
              "<Figure size 432x288 with 1 Axes>"
            ]
          },
          "metadata": {
            "tags": [],
            "needs_background": "light"
          }
        }
      ]
    },
    {
      "cell_type": "markdown",
      "metadata": {
        "id": "Zpca9pt2XowC"
      },
      "source": [
        "# conclusion:\r\n",
        "## the above code is the manual implementation for 1 dimensional linear regression\r\n"
      ]
    },
    {
      "cell_type": "code",
      "metadata": {
        "id": "6s02xv7IXoCi"
      },
      "source": [
        ""
      ],
      "execution_count": null,
      "outputs": []
    }
  ]
}