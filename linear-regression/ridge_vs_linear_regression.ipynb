{
  "nbformat": 4,
  "nbformat_minor": 0,
  "metadata": {
    "colab": {
      "name": "ridge vs linear regression.ipynb",
      "provenance": []
    },
    "kernelspec": {
      "name": "python3",
      "display_name": "Python 3"
    }
  },
  "cells": [
    {
      "cell_type": "code",
      "metadata": {
        "id": "e3fCsQpL94i1"
      },
      "source": [
        "import numpy as np\n",
        "import matplotlib.pyplot as plt"
      ],
      "execution_count": null,
      "outputs": []
    },
    {
      "cell_type": "markdown",
      "metadata": {
        "id": "GjV3idsJ-CRu"
      },
      "source": [
        "# create dataset"
      ]
    },
    {
      "cell_type": "code",
      "metadata": {
        "id": "D0dXZoZV-DC5"
      },
      "source": [
        "x =  np.linspace(1 , 10 , 50)"
      ],
      "execution_count": null,
      "outputs": []
    },
    {
      "cell_type": "code",
      "metadata": {
        "id": "egiP5XMR-C-F"
      },
      "source": [
        "m = 1\n",
        "noise =  np.random.randn(len(x))"
      ],
      "execution_count": null,
      "outputs": []
    },
    {
      "cell_type": "code",
      "metadata": {
        "id": "LyA4kKZA-C5k"
      },
      "source": [
        "y = m * x + noise"
      ],
      "execution_count": null,
      "outputs": []
    },
    {
      "cell_type": "code",
      "metadata": {
        "id": "G_BTQV8vFa4d"
      },
      "source": [
        "# adding outliers\n",
        "\n",
        "y[-1] += 50\n",
        "y[-10] +=45"
      ],
      "execution_count": null,
      "outputs": []
    },
    {
      "cell_type": "code",
      "metadata": {
        "colab": {
          "base_uri": "https://localhost:8080/",
          "height": 282
        },
        "id": "PQZrNeKU-C4G",
        "outputId": "bfe6f981-e6b5-461f-ddf9-f0a118f3a8fa"
      },
      "source": [
        "plt.scatter(x ,y)"
      ],
      "execution_count": null,
      "outputs": [
        {
          "output_type": "execute_result",
          "data": {
            "text/plain": [
              "<matplotlib.collections.PathCollection at 0x7f1b2cdc6cc0>"
            ]
          },
          "metadata": {
            "tags": []
          },
          "execution_count": 153
        },
        {
          "output_type": "display_data",
          "data": {
            "image/png": "[encoded data removed]",
            "text/plain": [
              "<Figure size 432x288 with 1 Axes>"
            ]
          },
          "metadata": {
            "tags": [],
            "needs_background": "light"
          }
        }
      ]
    },
    {
      "cell_type": "markdown",
      "metadata": {
        "id": "_vnvnouIF4_Z"
      },
      "source": [
        "## linear regression"
      ]
    },
    {
      "cell_type": "code",
      "metadata": {
        "id": "NMXeajNW-C1I"
      },
      "source": [
        "X  = np.vstack([np.ones(len(x)), x]).T     # np.ones is for bias"
      ],
      "execution_count": null,
      "outputs": []
    },
    {
      "cell_type": "code",
      "metadata": {
        "colab": {
          "base_uri": "https://localhost:8080/"
        },
        "id": "qiVBcSnBD_4l",
        "outputId": "ad074544-ccbf-45af-ad41-6a1c3b6f5136"
      },
      "source": [
        "X.T.dot(X)"
      ],
      "execution_count": null,
      "outputs": [
        {
          "output_type": "execute_result",
          "data": {
            "text/plain": [
              "array([[  50.       ,  275.       ],\n",
              "       [ 275.       , 1863.7755102]])"
            ]
          },
          "metadata": {
            "tags": []
          },
          "execution_count": 155
        }
      ]
    },
    {
      "cell_type": "code",
      "metadata": {
        "colab": {
          "base_uri": "https://localhost:8080/"
        },
        "id": "xcFd3sUsEFGZ",
        "outputId": "97570de1-cbff-4ab3-b38c-7119e90a86cb"
      },
      "source": [
        "np.linalg.inv(X.T.dot(X)).dot(y.dot(X))"
      ],
      "execution_count": null,
      "outputs": [
        {
          "output_type": "execute_result",
          "data": {
            "text/plain": [
              "array([-3.90152537,  2.0264682 ])"
            ]
          },
          "metadata": {
            "tags": []
          },
          "execution_count": 156
        }
      ]
    },
    {
      "cell_type": "code",
      "metadata": {
        "id": "_G4pMOZn-CwW"
      },
      "source": [
        "# solution of weights of 2-dimensional dataset\n",
        "w = np.linalg.solve(X.T.dot(X) , y.dot(X))"
      ],
      "execution_count": null,
      "outputs": []
    },
    {
      "cell_type": "code",
      "metadata": {
        "colab": {
          "base_uri": "https://localhost:8080/"
        },
        "id": "NwXf4wtKDgUA",
        "outputId": "8e5a9aa2-7d40-4f80-f61e-9a49941448ba"
      },
      "source": [
        "w"
      ],
      "execution_count": null,
      "outputs": [
        {
          "output_type": "execute_result",
          "data": {
            "text/plain": [
              "array([-3.90152537,  2.0264682 ])"
            ]
          },
          "metadata": {
            "tags": []
          },
          "execution_count": 162
        }
      ]
    },
    {
      "cell_type": "code",
      "metadata": {
        "id": "1G221O5oAm6K"
      },
      "source": [
        "# finding yhat\n",
        "yhat = X.dot(w)"
      ],
      "execution_count": null,
      "outputs": []
    },
    {
      "cell_type": "code",
      "metadata": {
        "colab": {
          "base_uri": "https://localhost:8080/",
          "height": 282
        },
        "id": "EwKm8UYrAnLf",
        "outputId": "aff61ae6-3fb9-49e7-9db9-cf22279487f8"
      },
      "source": [
        "plt.scatter(x ,y , label = \"TRUE\")\n",
        "plt.plot(x , yhat , label = \"PREDS\" ,  c = \"red\")\n",
        "plt.legend()"
      ],
      "execution_count": null,
      "outputs": [
        {
          "output_type": "execute_result",
          "data": {
            "text/plain": [
              "<matplotlib.legend.Legend at 0x7f1b2fbe4d68>"
            ]
          },
          "metadata": {
            "tags": []
          },
          "execution_count": 160
        },
        {
          "output_type": "display_data",
          "data": {
            "image/png": "[encoded data removed]",
            "text/plain": [
              "<Figure size 432x288 with 1 Axes>"
            ]
          },
          "metadata": {
            "tags": [],
            "needs_background": "light"
          }
        }
      ]
    },
    {
      "cell_type": "markdown",
      "metadata": {
        "id": "CoF9s5edAnH5"
      },
      "source": [
        "## ridge regression"
      ]
    },
    {
      "cell_type": "code",
      "metadata": {
        "id": "V7vlAx8BGlzH"
      },
      "source": [
        "# solve for w\n",
        "l2 = 1000\n",
        "wmap = np.linalg.solve((l2*np.eye(X.shape[-1]) + X.T.dot(X)),  X.T.dot(y))"
      ],
      "execution_count": null,
      "outputs": []
    },
    {
      "cell_type": "code",
      "metadata": {
        "id": "BygGCBMtGxeN"
      },
      "source": [
        "# solve for ymap\n",
        "ymap = X.dot(wmap)"
      ],
      "execution_count": null,
      "outputs": []
    },
    {
      "cell_type": "code",
      "metadata": {
        "colab": {
          "base_uri": "https://localhost:8080/"
        },
        "id": "XAp29iQdINb8",
        "outputId": "e95a9c59-c545-49a9-c568-e1a3a25f307e"
      },
      "source": [
        "wmap"
      ],
      "execution_count": null,
      "outputs": [
        {
          "output_type": "execute_result",
          "data": {
            "text/plain": [
              "array([0.10018525, 0.93457444])"
            ]
          },
          "metadata": {
            "tags": []
          },
          "execution_count": 221
        }
      ]
    },
    {
      "cell_type": "code",
      "metadata": {
        "colab": {
          "base_uri": "https://localhost:8080/",
          "height": 282
        },
        "id": "wWYsFqfBGxj7",
        "outputId": "efe0f6e7-eb24-4739-e581-8eaa62a3e277"
      },
      "source": [
        "plt.scatter(x ,y , label = \"TRUE\")\n",
        "plt.plot(x , yhat , label = \"linear reg\" ,  c = \"red\")\n",
        "plt.plot(x , ymap , label = \"ridge rig\" ,  c = \"green\")\n",
        "plt.legend()"
      ],
      "execution_count": null,
      "outputs": [
        {
          "output_type": "execute_result",
          "data": {
            "text/plain": [
              "<matplotlib.legend.Legend at 0x7f1b2c799898>"
            ]
          },
          "metadata": {
            "tags": []
          },
          "execution_count": 222
        },
        {
          "output_type": "display_data",
          "data": {
            "image/png": "[encoded data removed]",
            "text/plain": [
              "<Figure size 432x288 with 1 Axes>"
            ]
          },
          "metadata": {
            "tags": [],
            "needs_background": "light"
          }
        }
      ]
    },
    {
      "cell_type": "markdown",
      "metadata": {
        "id": "H5p8adqEGxbS"
      },
      "source": [
        "# conclusion :\n",
        "### ridge regression doesnot depends upon outliers"
      ]
    },
    {
      "cell_type": "code",
      "metadata": {
        "id": "g3TGkTjBJLOE"
      },
      "source": [
        ""
      ],
      "execution_count": null,
      "outputs": []
    }
  ]
}